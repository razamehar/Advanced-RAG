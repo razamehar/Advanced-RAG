{
 "cells": [
  {
   "cell_type": "code",
   "id": "initial_id",
   "metadata": {
    "collapsed": true,
    "ExecuteTime": {
     "end_time": "2025-06-18T17:16:05.757744Z",
     "start_time": "2025-06-18T17:16:05.527744Z"
    }
   },
   "source": [
    "import langchain\n",
    "from langchain_community.document_loaders import PyPDFLoader\n",
    "from langchain.text_splitter import RecursiveCharacterTextSplitter\n",
    "from langchain_openai import OpenAIEmbeddings, ChatOpenAI\n",
    "import os\n",
    "from dotenv import load_dotenv\n",
    "from langchain.vectorstores import Chroma\n",
    "from langchain.retrievers import BM25Retriever, EnsembleRetriever\n",
    "import re\n",
    "from langchain.schema.output_parser import StrOutputParser\n",
    "from langchain.prompts import SystemMessagePromptTemplate, HumanMessagePromptTemplate\n",
    "from langchain.prompts import ChatPromptTemplate, PromptTemplate\n",
    "from langchain.load import dumps, loads\n",
    "from langchain.retrievers import ContextualCompressionRetriever\n",
    "from langchain.retrievers.document_compressors import LLMChainExtractor,LLMChainFilter, DocumentCompressorPipeline, EmbeddingsFilter\n",
    "from langchain_community.document_transformers import EmbeddingsRedundantFilter\n",
    "from langchain.chains import RetrievalQA"
   ],
   "outputs": [],
   "execution_count": 28
  },
  {
   "metadata": {
    "ExecuteTime": {
     "end_time": "2025-06-18T17:03:24.040622Z",
     "start_time": "2025-06-18T17:03:24.019625Z"
    }
   },
   "cell_type": "code",
   "source": "load_dotenv()",
   "id": "77a78102f524893d",
   "outputs": [
    {
     "data": {
      "text/plain": [
       "True"
      ]
     },
     "execution_count": 2,
     "metadata": {},
     "output_type": "execute_result"
    }
   ],
   "execution_count": 2
  },
  {
   "metadata": {
    "ExecuteTime": {
     "end_time": "2025-06-18T17:03:24.983016Z",
     "start_time": "2025-06-18T17:03:24.971015Z"
    }
   },
   "cell_type": "code",
   "source": "doc_path = '../data/pdf.pdf'",
   "id": "4cef55ff8bdd06e3",
   "outputs": [],
   "execution_count": 3
  },
  {
   "metadata": {
    "ExecuteTime": {
     "end_time": "2025-06-18T17:03:26.265316Z",
     "start_time": "2025-06-18T17:03:26.252316Z"
    }
   },
   "cell_type": "code",
   "source": [
    "def reciprocal_rank_fusion(results: list[list], k=60):\n",
    "    fused_scores = {}\n",
    "    for docs in results:\n",
    "        for rank, doc in enumerate(docs):\n",
    "            doc_str = dumps(doc)\n",
    "            if doc_str not in fused_scores:\n",
    "                fused_scores[doc_str] = 0\n",
    "            previous_score = fused_scores[doc_str]\n",
    "            fused_scores[doc_str] += 1 / (rank + k)\n",
    "\n",
    "    reranked_results = [\n",
    "        (loads(doc), score)\n",
    "        for doc, score in sorted(fused_scores.items(), key=lambda x: x[1], reverse=True)\n",
    "    ]\n",
    "    return reranked_results"
   ],
   "id": "82452e084aefba59",
   "outputs": [],
   "execution_count": 4
  },
  {
   "metadata": {
    "ExecuteTime": {
     "end_time": "2025-06-18T17:03:27.166736Z",
     "start_time": "2025-06-18T17:03:27.152738Z"
    }
   },
   "cell_type": "code",
   "source": [
    "prompt = ChatPromptTemplate(input_variables=['original_query'],\n",
    "                            messages=[SystemMessagePromptTemplate(prompt=PromptTemplate(input_variables=[],template='You are a helpful assistant that generates multiple search queries based on a single input query.')),\n",
    "                            HumanMessagePromptTemplate(prompt=PromptTemplate(input_variables=['original_query'], template='Generate multiple search queries related to: {question} \\n OUTPUT (3 queries):'))])"
   ],
   "id": "bf17135b1c33d27a",
   "outputs": [],
   "execution_count": 5
  },
  {
   "metadata": {
    "ExecuteTime": {
     "end_time": "2025-06-18T17:03:28.060337Z",
     "start_time": "2025-06-18T17:03:28.048339Z"
    }
   },
   "cell_type": "code",
   "source": [
    "def preprocess_text(text: str) -> str:\n",
    "\n",
    "    text = text.lower()\n",
    "    text = text.encode(\"ascii\", errors=\"ignore\").decode()\n",
    "    text = re.sub(r'\\s+', ' ', text)\n",
    "    text = text.replace('\\n', ' ').strip()\n",
    "    return text"
   ],
   "id": "56c5fd4a2a4b49ff",
   "outputs": [],
   "execution_count": 6
  },
  {
   "metadata": {
    "ExecuteTime": {
     "end_time": "2025-06-18T17:03:32.820099Z",
     "start_time": "2025-06-18T17:03:28.986876Z"
    }
   },
   "cell_type": "code",
   "source": [
    "loader=PyPDFLoader(doc_path)\n",
    "docs=loader.load()"
   ],
   "id": "820b0925a2e86de0",
   "outputs": [],
   "execution_count": 7
  },
  {
   "metadata": {
    "ExecuteTime": {
     "end_time": "2025-06-18T17:03:32.850852Z",
     "start_time": "2025-06-18T17:03:32.826111Z"
    }
   },
   "cell_type": "code",
   "source": [
    "for doc in docs:\n",
    "    doc.page_content = preprocess_text(doc.page_content)"
   ],
   "id": "a6889f728d97e313",
   "outputs": [],
   "execution_count": 8
  },
  {
   "metadata": {
    "ExecuteTime": {
     "end_time": "2025-06-18T17:03:34.309440Z",
     "start_time": "2025-06-18T17:03:34.249444Z"
    }
   },
   "cell_type": "code",
   "source": [
    "splitter = RecursiveCharacterTextSplitter(chunk_size=200,chunk_overlap=30)\n",
    "chunks = splitter.split_documents(docs)"
   ],
   "id": "ad901f92bd49e38d",
   "outputs": [],
   "execution_count": 9
  },
  {
   "metadata": {
    "ExecuteTime": {
     "end_time": "2025-06-18T17:03:38.596112Z",
     "start_time": "2025-06-18T17:03:37.683773Z"
    }
   },
   "cell_type": "code",
   "source": "embeddings = OpenAIEmbeddings()",
   "id": "61f68d9965cb1186",
   "outputs": [],
   "execution_count": 10
  },
  {
   "metadata": {
    "ExecuteTime": {
     "end_time": "2025-06-18T17:04:37.027591Z",
     "start_time": "2025-06-18T17:03:43.048504Z"
    }
   },
   "cell_type": "code",
   "source": [
    "vectorstore=Chroma.from_documents(chunks,embeddings)\n",
    "vectorstore_retreiver = vectorstore.as_retriever(search_kwargs={\"k\": 5})\n",
    "vectorstore_retreiver"
   ],
   "id": "a38aa0af22a880e5",
   "outputs": [
    {
     "data": {
      "text/plain": [
       "VectorStoreRetriever(tags=['Chroma', 'OpenAIEmbeddings'], vectorstore=<langchain_community.vectorstores.chroma.Chroma object at 0x000001E98EA73F40>, search_kwargs={'k': 5})"
      ]
     },
     "execution_count": 11,
     "metadata": {},
     "output_type": "execute_result"
    }
   ],
   "execution_count": 11
  },
  {
   "metadata": {
    "ExecuteTime": {
     "end_time": "2025-06-18T17:04:43.157679Z",
     "start_time": "2025-06-18T17:04:43.105318Z"
    }
   },
   "cell_type": "code",
   "source": [
    "keyword_retriever = BM25Retriever.from_documents(chunks)\n",
    "keyword_retriever.k = 3\n",
    "keyword_retriever"
   ],
   "id": "4e1aa3237de6eb66",
   "outputs": [
    {
     "data": {
      "text/plain": [
       "BM25Retriever(vectorizer=<rank_bm25.BM25Okapi object at 0x000001E98C9F2310>, k=3)"
      ]
     },
     "execution_count": 12,
     "metadata": {},
     "output_type": "execute_result"
    }
   ],
   "execution_count": 12
  },
  {
   "metadata": {
    "ExecuteTime": {
     "end_time": "2025-06-18T17:04:47.853208Z",
     "start_time": "2025-06-18T17:04:47.843256Z"
    }
   },
   "cell_type": "code",
   "source": [
    "ensemble_retriever = EnsembleRetriever(retrievers=[vectorstore_retreiver,keyword_retriever],weights=[0.3, 0.7])\n",
    "ensemble_retriever"
   ],
   "id": "8489b17f0661f6f9",
   "outputs": [
    {
     "data": {
      "text/plain": [
       "EnsembleRetriever(retrievers=[VectorStoreRetriever(tags=['Chroma', 'OpenAIEmbeddings'], vectorstore=<langchain_community.vectorstores.chroma.Chroma object at 0x000001E98EA73F40>, search_kwargs={'k': 5}), BM25Retriever(vectorizer=<rank_bm25.BM25Okapi object at 0x000001E98C9F2310>, k=3)], weights=[0.3, 0.7])"
      ]
     },
     "execution_count": 13,
     "metadata": {},
     "output_type": "execute_result"
    }
   ],
   "execution_count": 13
  },
  {
   "metadata": {
    "ExecuteTime": {
     "end_time": "2025-06-18T17:08:59.547661Z",
     "start_time": "2025-06-18T17:08:59.489910Z"
    }
   },
   "cell_type": "code",
   "source": "llm = ChatOpenAI()",
   "id": "5614ed3b3f9432f5",
   "outputs": [],
   "execution_count": 14
  },
  {
   "metadata": {
    "ExecuteTime": {
     "end_time": "2025-06-18T17:09:21.281265Z",
     "start_time": "2025-06-18T17:09:21.260072Z"
    }
   },
   "cell_type": "code",
   "source": [
    "generate_queries = (\n",
    "    prompt | llm | StrOutputParser() | (lambda x: x.split(\"\\n\"))\n",
    ")\n",
    "generate_queries"
   ],
   "id": "9ff77f893bdaa9ce",
   "outputs": [
    {
     "data": {
      "text/plain": [
       "ChatPromptTemplate(input_variables=['question'], input_types={}, partial_variables={}, messages=[SystemMessagePromptTemplate(prompt=PromptTemplate(input_variables=[], input_types={}, partial_variables={}, template='You are a helpful assistant that generates multiple search queries based on a single input query.'), additional_kwargs={}), HumanMessagePromptTemplate(prompt=PromptTemplate(input_variables=['question'], input_types={}, partial_variables={}, template='Generate multiple search queries related to: {question} \\n OUTPUT (3 queries):'), additional_kwargs={})])\n",
       "| ChatOpenAI(client=<openai.resources.chat.completions.completions.Completions object at 0x000001E98F45F0A0>, async_client=<openai.resources.chat.completions.completions.AsyncCompletions object at 0x000001E98C9F2DF0>, root_client=<openai.OpenAI object at 0x000001E98F3A2BB0>, root_async_client=<openai.AsyncOpenAI object at 0x000001E98C9F2370>, model_kwargs={}, openai_api_key=SecretStr('**********'))\n",
       "| StrOutputParser()\n",
       "| RunnableLambda(lambda x: x.split('\\n'))"
      ]
     },
     "execution_count": 16,
     "metadata": {},
     "output_type": "execute_result"
    }
   ],
   "execution_count": 16
  },
  {
   "metadata": {
    "ExecuteTime": {
     "end_time": "2025-06-18T17:13:45.058621Z",
     "start_time": "2025-06-18T17:13:45.033657Z"
    }
   },
   "cell_type": "code",
   "source": [
    "compressor1 = LLMChainExtractor.from_llm(llm)\n",
    "compressor2 = LLMChainFilter.from_llm(llm)\n",
    "\n",
    "redundant_filter = EmbeddingsRedundantFilter(embeddings=embeddings)\n",
    "relevant_filter = EmbeddingsFilter(embeddings=embeddings, similarity_threshold=0.76)"
   ],
   "id": "e339c17bb88df7cb",
   "outputs": [],
   "execution_count": 25
  },
  {
   "metadata": {
    "ExecuteTime": {
     "end_time": "2025-06-18T17:15:28.265609Z",
     "start_time": "2025-06-18T17:15:28.253618Z"
    }
   },
   "cell_type": "code",
   "source": [
    "compression_retriever1 = ContextualCompressionRetriever(base_compressor=compressor1, base_retriever=ensemble_retriever)\n",
    "compression_retriever2 = ContextualCompressionRetriever(base_compressor=compressor2, base_retriever=ensemble_retriever)\n",
    "\n",
    "pipeline_compressor = DocumentCompressorPipeline(transformers=[splitter, redundant_filter, relevant_filter])\n",
    "compression_retriever3 = ContextualCompressionRetriever(base_compressor=pipeline_compressor, base_retriever=ensemble_retriever)"
   ],
   "id": "d8de74809db4a22c",
   "outputs": [],
   "execution_count": 27
  },
  {
   "metadata": {
    "ExecuteTime": {
     "end_time": "2025-06-18T17:16:23.751596Z",
     "start_time": "2025-06-18T17:16:23.724592Z"
    }
   },
   "cell_type": "code",
   "source": [
    "chain1 = RetrievalQA.from_chain_type(llm=llm, retriever=compression_retriever1)\n",
    "chain2 = RetrievalQA.from_chain_type(llm=llm, retriever=compression_retriever2)\n",
    "chain3 = RetrievalQA.from_chain_type(llm=llm, retriever=compression_retriever3)"
   ],
   "id": "67646298c7196d2",
   "outputs": [],
   "execution_count": 29
  },
  {
   "metadata": {
    "ExecuteTime": {
     "end_time": "2025-06-18T17:17:54.150853Z",
     "start_time": "2025-06-18T17:17:39.542473Z"
    }
   },
   "cell_type": "code",
   "source": [
    "query = 'How to prevent data contamination?'\n",
    "\n",
    "response1 = chain1.invoke(query)\n",
    "response2 = chain2.invoke(query)\n",
    "response3 = chain3.invoke(query)"
   ],
   "id": "a76bb18269f9d194",
   "outputs": [],
   "execution_count": 31
  },
  {
   "metadata": {
    "ExecuteTime": {
     "end_time": "2025-06-18T17:18:53.952856Z",
     "start_time": "2025-06-18T17:18:53.943550Z"
    }
   },
   "cell_type": "code",
   "source": "response1['result']",
   "id": "589afea8caeb59e5",
   "outputs": [
    {
     "data": {
      "text/plain": [
       "'To prevent data contamination, it is essential to follow best practices and protocols for data collection, storage, and processing. Implement the following measures:\\n\\n1. **Data Collection:** Ensure proper training and supervision of data collectors to reduce errors and contamination during the data collection process.\\n   \\n2. **Quality Control:** Implement quality control measures during data collection, entry, and processing to identify and correct any contamination early on.\\n   \\n3. **Regular Data Cleaning:** Regularly clean and validate the data to detect and correct any errors or inconsistencies that could lead to contamination.\\n   \\n4. **Data Storage:** Store data in secure and controlled environments to prevent unauthorized access or tampering that could lead to contamination.\\n   \\n5. **Data Sharing Protocols:** Establish clear protocols for sharing data to prevent unintentional contamination or misuse of data.\\n   \\n6. **Documentation:** Maintain detailed documentation of data collection, processing, and analysis procedures to ensure transparency and traceability.\\n   \\n7. **Training:** Provide training to data handlers on best practices for data management and quality control to minimize the risk of contamination.\\n\\nThese measures can help in preventing data contamination and maintaining the integrity of the dataset.'"
      ]
     },
     "execution_count": 38,
     "metadata": {},
     "output_type": "execute_result"
    }
   ],
   "execution_count": 38
  },
  {
   "metadata": {
    "ExecuteTime": {
     "end_time": "2025-06-18T17:18:38.099516Z",
     "start_time": "2025-06-18T17:18:38.088111Z"
    }
   },
   "cell_type": "code",
   "source": "response2['result']",
   "id": "91164fd5e68a72d7",
   "outputs": [
    {
     "data": {
      "text/plain": [
       "'To prevent data contamination, it is important to regularly conduct data checks and quality assurance processes on the data you are using. This includes verifying the sources of your data, checking for anomalies or inconsistencies, and ensuring that your data is properly cleaned and validated. Maintaining strict control over data access and monitoring the data inputs can also help in preventing data contamination.'"
      ]
     },
     "execution_count": 36,
     "metadata": {},
     "output_type": "execute_result"
    }
   ],
   "execution_count": 36
  },
  {
   "metadata": {
    "ExecuteTime": {
     "end_time": "2025-06-18T17:18:46.080520Z",
     "start_time": "2025-06-18T17:18:46.057641Z"
    }
   },
   "cell_type": "code",
   "source": "response3['result']",
   "id": "53ae0d13e29bd933",
   "outputs": [
    {
     "data": {
      "text/plain": [
       "\"To prevent data contamination, one approach is to carefully vet and verify the data sources you are using. It's important to implement stringent quality checks and validation processes to ensure that the data you are working with is clean and reliable. Additionally, setting up clear guidelines for data collection, annotation, and storage can help reduce the risk of contamination. Regular monitoring and auditing of data sets can also be beneficial in detecting any potential sources of contamination early on.\""
      ]
     },
     "execution_count": 37,
     "metadata": {},
     "output_type": "execute_result"
    }
   ],
   "execution_count": 37
  }
 ],
 "metadata": {
  "kernelspec": {
   "display_name": "Python 3",
   "language": "python",
   "name": "python3"
  },
  "language_info": {
   "codemirror_mode": {
    "name": "ipython",
    "version": 2
   },
   "file_extension": ".py",
   "mimetype": "text/x-python",
   "name": "python",
   "nbconvert_exporter": "python",
   "pygments_lexer": "ipython2",
   "version": "2.7.6"
  }
 },
 "nbformat": 4,
 "nbformat_minor": 5
}
