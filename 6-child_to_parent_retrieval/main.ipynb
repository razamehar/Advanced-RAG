{
 "cells": [
  {
   "cell_type": "code",
   "id": "initial_id",
   "metadata": {
    "collapsed": true,
    "ExecuteTime": {
     "end_time": "2025-06-19T07:22:22.157317Z",
     "start_time": "2025-06-19T07:22:22.131308Z"
    }
   },
   "source": [
    "from langchain_community.document_loaders import PyPDFLoader\n",
    "from langchain.text_splitter import RecursiveCharacterTextSplitter\n",
    "from langchain_openai import OpenAIEmbeddings, ChatOpenAI\n",
    "import os\n",
    "from dotenv import load_dotenv\n",
    "from langchain.vectorstores import Chroma\n",
    "from langchain.retrievers import BM25Retriever, EnsembleRetriever\n",
    "import re\n",
    "from langchain.schema.output_parser import StrOutputParser\n",
    "from langchain.prompts import SystemMessagePromptTemplate, HumanMessagePromptTemplate\n",
    "from langchain.prompts import ChatPromptTemplate, PromptTemplate\n",
    "from langchain.retrievers import ContextualCompressionRetriever\n",
    "from langchain.retrievers.document_compressors import LLMChainExtractor,LLMChainFilter, DocumentCompressorPipeline, EmbeddingsFilter\n",
    "from langchain_community.document_transformers import EmbeddingsRedundantFilter\n",
    "from langchain.chains import RetrievalQA\n",
    "from langchain.retrievers import ParentDocumentRetriever\n",
    "from langchain.storage import InMemoryStore"
   ],
   "outputs": [],
   "execution_count": 27
  },
  {
   "metadata": {
    "ExecuteTime": {
     "end_time": "2025-06-19T07:07:14.586135Z",
     "start_time": "2025-06-19T07:07:14.563574Z"
    }
   },
   "cell_type": "code",
   "source": "load_dotenv()",
   "id": "77a78102f524893d",
   "outputs": [
    {
     "data": {
      "text/plain": [
       "True"
      ]
     },
     "execution_count": 5,
     "metadata": {},
     "output_type": "execute_result"
    }
   ],
   "execution_count": 5
  },
  {
   "metadata": {
    "ExecuteTime": {
     "end_time": "2025-06-19T07:07:15.177542Z",
     "start_time": "2025-06-19T07:07:15.166507Z"
    }
   },
   "cell_type": "code",
   "source": "doc_path = '../data/pdf.pdf'",
   "id": "4cef55ff8bdd06e3",
   "outputs": [],
   "execution_count": 6
  },
  {
   "metadata": {
    "ExecuteTime": {
     "end_time": "2025-06-19T07:07:17.555358Z",
     "start_time": "2025-06-19T07:07:17.543360Z"
    }
   },
   "cell_type": "code",
   "source": [
    "prompt = ChatPromptTemplate(input_variables=['original_query'],\n",
    "                            messages=[SystemMessagePromptTemplate(prompt=PromptTemplate(input_variables=[],template='You are a helpful assistant that generates multiple search queries based on a single input query.')),\n",
    "                            HumanMessagePromptTemplate(prompt=PromptTemplate(input_variables=['original_query'], template='Generate multiple search queries related to: {question} \\n OUTPUT (3 queries):'))])"
   ],
   "id": "bf17135b1c33d27a",
   "outputs": [],
   "execution_count": 7
  },
  {
   "metadata": {
    "ExecuteTime": {
     "end_time": "2025-06-19T07:07:18.577637Z",
     "start_time": "2025-06-19T07:07:18.564640Z"
    }
   },
   "cell_type": "code",
   "source": [
    "def preprocess_text(text: str) -> str:\n",
    "\n",
    "    text = text.lower()\n",
    "    text = text.encode(\"ascii\", errors=\"ignore\").decode()\n",
    "    text = re.sub(r'\\s+', ' ', text)\n",
    "    text = text.replace('\\n', ' ').strip()\n",
    "    return text"
   ],
   "id": "56c5fd4a2a4b49ff",
   "outputs": [],
   "execution_count": 8
  },
  {
   "metadata": {
    "ExecuteTime": {
     "end_time": "2025-06-19T07:07:23.517419Z",
     "start_time": "2025-06-19T07:07:19.725998Z"
    }
   },
   "cell_type": "code",
   "source": [
    "loader=PyPDFLoader(doc_path)\n",
    "docs=loader.load()"
   ],
   "id": "820b0925a2e86de0",
   "outputs": [],
   "execution_count": 9
  },
  {
   "metadata": {
    "ExecuteTime": {
     "end_time": "2025-06-19T07:07:23.549560Z",
     "start_time": "2025-06-19T07:07:23.523432Z"
    }
   },
   "cell_type": "code",
   "source": [
    "for doc in docs:\n",
    "    doc.page_content = preprocess_text(doc.page_content)"
   ],
   "id": "a6889f728d97e313",
   "outputs": [],
   "execution_count": 10
  },
  {
   "metadata": {
    "ExecuteTime": {
     "end_time": "2025-06-19T07:28:20.607238Z",
     "start_time": "2025-06-19T07:28:20.578237Z"
    }
   },
   "cell_type": "code",
   "source": [
    "parent_splitter = RecursiveCharacterTextSplitter(chunk_size=2000,chunk_overlap=100)\n",
    "child_splitter = RecursiveCharacterTextSplitter(chunk_size=200,chunk_overlap=30)"
   ],
   "id": "ad901f92bd49e38d",
   "outputs": [],
   "execution_count": 29
  },
  {
   "metadata": {
    "ExecuteTime": {
     "end_time": "2025-06-19T07:07:25.666932Z",
     "start_time": "2025-06-19T07:07:24.768216Z"
    }
   },
   "cell_type": "code",
   "source": "embeddings = OpenAIEmbeddings()",
   "id": "61f68d9965cb1186",
   "outputs": [],
   "execution_count": 12
  },
  {
   "metadata": {
    "ExecuteTime": {
     "end_time": "2025-06-19T07:22:38.898395Z",
     "start_time": "2025-06-19T07:22:38.885886Z"
    }
   },
   "cell_type": "code",
   "source": "store = InMemoryStore()",
   "id": "45459176660bc7e5",
   "outputs": [],
   "execution_count": 28
  },
  {
   "metadata": {
    "ExecuteTime": {
     "end_time": "2025-06-19T07:30:56.448270Z",
     "start_time": "2025-06-19T07:30:54.165029Z"
    }
   },
   "cell_type": "code",
   "source": "vectorstore=Chroma.from_documents(docs, embeddings)",
   "id": "a38aa0af22a880e5",
   "outputs": [],
   "execution_count": 32
  },
  {
   "metadata": {
    "ExecuteTime": {
     "end_time": "2025-06-19T07:31:06.538898Z",
     "start_time": "2025-06-19T07:31:06.515790Z"
    }
   },
   "cell_type": "code",
   "source": [
    "parent_document_retriever = ParentDocumentRetriever(\n",
    "            vectorstore=vectorstore,\n",
    "            docstore=store,\n",
    "            child_splitter=child_splitter,\n",
    "            parent_splitter=parent_splitter,\n",
    "        )"
   ],
   "id": "c363e9d3e52ca344",
   "outputs": [],
   "execution_count": 33
  },
  {
   "metadata": {
    "ExecuteTime": {
     "end_time": "2025-06-19T07:32:37.103786Z",
     "start_time": "2025-06-19T07:32:37.061259Z"
    }
   },
   "cell_type": "code",
   "source": [
    "keyword_retriever = BM25Retriever.from_documents(docs)\n",
    "keyword_retriever.k = 3\n",
    "keyword_retriever"
   ],
   "id": "4e1aa3237de6eb66",
   "outputs": [
    {
     "data": {
      "text/plain": [
       "BM25Retriever(vectorizer=<rank_bm25.BM25Okapi object at 0x000001222E079AF0>, k=3)"
      ]
     },
     "execution_count": 35,
     "metadata": {},
     "output_type": "execute_result"
    }
   ],
   "execution_count": 35
  },
  {
   "metadata": {
    "ExecuteTime": {
     "end_time": "2025-06-19T07:35:12.358029Z",
     "start_time": "2025-06-19T07:35:12.348025Z"
    }
   },
   "cell_type": "code",
   "source": [
    "ensemble_retriever = EnsembleRetriever(retrievers=[parent_document_retriever,keyword_retriever],weights=[0.4, 0.6])\n",
    "ensemble_retriever"
   ],
   "id": "8489b17f0661f6f9",
   "outputs": [
    {
     "data": {
      "text/plain": [
       "EnsembleRetriever(retrievers=[ParentDocumentRetriever(vectorstore=<langchain_community.vectorstores.chroma.Chroma object at 0x000001222E079460>, docstore=<langchain_core.stores.InMemoryStore object at 0x0000012229C3F340>, search_kwargs={}, child_splitter=<langchain_text_splitters.character.RecursiveCharacterTextSplitter object at 0x0000012229C3F130>, parent_splitter=<langchain_text_splitters.character.RecursiveCharacterTextSplitter object at 0x0000012229C3F370>), BM25Retriever(vectorizer=<rank_bm25.BM25Okapi object at 0x000001222E079AF0>, k=3)], weights=[0.4, 0.6])"
      ]
     },
     "execution_count": 46,
     "metadata": {},
     "output_type": "execute_result"
    }
   ],
   "execution_count": 46
  },
  {
   "metadata": {
    "ExecuteTime": {
     "end_time": "2025-06-19T07:35:13.048997Z",
     "start_time": "2025-06-19T07:35:13.035996Z"
    }
   },
   "cell_type": "code",
   "source": "llm = ChatOpenAI()",
   "id": "5614ed3b3f9432f5",
   "outputs": [],
   "execution_count": 47
  },
  {
   "metadata": {
    "ExecuteTime": {
     "end_time": "2025-06-19T07:35:13.801414Z",
     "start_time": "2025-06-19T07:35:13.790777Z"
    }
   },
   "cell_type": "code",
   "source": [
    "generate_queries = (\n",
    "    prompt | llm | StrOutputParser() | (lambda x: x.split(\"\\n\"))\n",
    ")\n",
    "generate_queries"
   ],
   "id": "9ff77f893bdaa9ce",
   "outputs": [
    {
     "data": {
      "text/plain": [
       "ChatPromptTemplate(input_variables=['question'], input_types={}, partial_variables={}, messages=[SystemMessagePromptTemplate(prompt=PromptTemplate(input_variables=[], input_types={}, partial_variables={}, template='You are a helpful assistant that generates multiple search queries based on a single input query.'), additional_kwargs={}), HumanMessagePromptTemplate(prompt=PromptTemplate(input_variables=['question'], input_types={}, partial_variables={}, template='Generate multiple search queries related to: {question} \\n OUTPUT (3 queries):'), additional_kwargs={})])\n",
       "| ChatOpenAI(client=<openai.resources.chat.completions.completions.Completions object at 0x000001222E21DD00>, async_client=<openai.resources.chat.completions.completions.AsyncCompletions object at 0x000001222E21D580>, root_client=<openai.OpenAI object at 0x000001222E21D8B0>, root_async_client=<openai.AsyncOpenAI object at 0x000001222E21DDC0>, model_kwargs={}, openai_api_key=SecretStr('**********'))\n",
       "| StrOutputParser()\n",
       "| RunnableLambda(lambda x: x.split('\\n'))"
      ]
     },
     "execution_count": 48,
     "metadata": {},
     "output_type": "execute_result"
    }
   ],
   "execution_count": 48
  },
  {
   "metadata": {
    "ExecuteTime": {
     "end_time": "2025-06-19T07:35:14.576904Z",
     "start_time": "2025-06-19T07:35:14.563896Z"
    }
   },
   "cell_type": "code",
   "source": [
    "compressor1 = LLMChainExtractor.from_llm(llm)\n",
    "compressor2 = LLMChainFilter.from_llm(llm)\n",
    "\n",
    "redundant_filter = EmbeddingsRedundantFilter(embeddings=embeddings)\n",
    "relevant_filter = EmbeddingsFilter(embeddings=embeddings, similarity_threshold=0.76)"
   ],
   "id": "e339c17bb88df7cb",
   "outputs": [],
   "execution_count": 49
  },
  {
   "metadata": {
    "ExecuteTime": {
     "end_time": "2025-06-19T07:35:15.580568Z",
     "start_time": "2025-06-19T07:35:15.568572Z"
    }
   },
   "cell_type": "code",
   "source": [
    "compression_retriever1 = ContextualCompressionRetriever(base_compressor=compressor1, base_retriever=ensemble_retriever)\n",
    "compression_retriever2 = ContextualCompressionRetriever(base_compressor=compressor2, base_retriever=ensemble_retriever)\n",
    "\n",
    "pipeline_compressor = DocumentCompressorPipeline(transformers=[splitter, redundant_filter, relevant_filter])\n",
    "compression_retriever3 = ContextualCompressionRetriever(base_compressor=pipeline_compressor, base_retriever=ensemble_retriever)"
   ],
   "id": "d8de74809db4a22c",
   "outputs": [],
   "execution_count": 50
  },
  {
   "metadata": {
    "ExecuteTime": {
     "end_time": "2025-06-19T07:35:16.428812Z",
     "start_time": "2025-06-19T07:35:16.415800Z"
    }
   },
   "cell_type": "code",
   "source": [
    "chain1 = RetrievalQA.from_chain_type(llm=llm, retriever=compression_retriever1)\n",
    "chain2 = RetrievalQA.from_chain_type(llm=llm, retriever=compression_retriever2)\n",
    "chain3 = RetrievalQA.from_chain_type(llm=llm, retriever=compression_retriever3)"
   ],
   "id": "67646298c7196d2",
   "outputs": [],
   "execution_count": 51
  },
  {
   "metadata": {
    "ExecuteTime": {
     "end_time": "2025-06-19T07:35:27.929671Z",
     "start_time": "2025-06-19T07:35:17.563027Z"
    }
   },
   "cell_type": "code",
   "source": [
    "query = 'How to prevent data contamination?'\n",
    "\n",
    "response1 = chain1.invoke(query)\n",
    "response2 = chain2.invoke(query)\n",
    "response3 = chain3.invoke(query)"
   ],
   "id": "a76bb18269f9d194",
   "outputs": [],
   "execution_count": 52
  },
  {
   "metadata": {
    "ExecuteTime": {
     "end_time": "2025-06-19T07:35:29.020364Z",
     "start_time": "2025-06-19T07:35:29.009264Z"
    }
   },
   "cell_type": "code",
   "source": "response1['result']",
   "id": "589afea8caeb59e5",
   "outputs": [
    {
     "data": {
      "text/plain": [
       "'To prevent data contamination, it is important to establish and maintain data governance practices, implement security measures to protect data integrity, enforce data validation rules, regularly clean and audit data, train staff on data handling best practices, and implement access controls to limit who can modify data. Regularly updating software and systems, creating backup copies of data, and monitoring data changes can also help in preventing data contamination.'"
      ]
     },
     "execution_count": 53,
     "metadata": {},
     "output_type": "execute_result"
    }
   ],
   "execution_count": 53
  },
  {
   "metadata": {
    "ExecuteTime": {
     "end_time": "2025-06-19T07:35:32.300589Z",
     "start_time": "2025-06-19T07:35:32.277487Z"
    }
   },
   "cell_type": "code",
   "source": "response2['result']",
   "id": "91164fd5e68a72d7",
   "outputs": [
    {
     "data": {
      "text/plain": [
       "'To prevent data contamination, it is essential to establish and follow best practices in data management. This includes ensuring data integrity, implementing data validation procedures, restricting unauthorized access to data, regularly backing up data, and maintaining a clean data environment. Additionally, conducting regular audits and quality checks can help identify and address any potential causes of data contamination.'"
      ]
     },
     "execution_count": 54,
     "metadata": {},
     "output_type": "execute_result"
    }
   ],
   "execution_count": 54
  },
  {
   "metadata": {
    "ExecuteTime": {
     "end_time": "2025-06-19T07:35:34.693105Z",
     "start_time": "2025-06-19T07:35:34.684095Z"
    }
   },
   "cell_type": "code",
   "source": "response3['result']",
   "id": "53ae0d13e29bd933",
   "outputs": [
    {
     "data": {
      "text/plain": [
       "'To prevent data contamination, it is essential to carefully monitor data collection processes, ensure data integrity and quality controls are in place, and regularly validate and verify the data being used. Employing data anonymization techniques, access controls, and encryption methods can also help prevent unauthorized access and manipulation of data. Regularly updating security measures and training personnel on data handling best practices can further contribute to preventing data contamination.'"
      ]
     },
     "execution_count": 55,
     "metadata": {},
     "output_type": "execute_result"
    }
   ],
   "execution_count": 55
  },
  {
   "metadata": {},
   "cell_type": "code",
   "outputs": [],
   "execution_count": null,
   "source": "",
   "id": "193e2d23387727d2"
  }
 ],
 "metadata": {
  "kernelspec": {
   "display_name": "Python 3",
   "language": "python",
   "name": "python3"
  },
  "language_info": {
   "codemirror_mode": {
    "name": "ipython",
    "version": 2
   },
   "file_extension": ".py",
   "mimetype": "text/x-python",
   "name": "python",
   "nbconvert_exporter": "python",
   "pygments_lexer": "ipython2",
   "version": "2.7.6"
  }
 },
 "nbformat": 4,
 "nbformat_minor": 5
}
