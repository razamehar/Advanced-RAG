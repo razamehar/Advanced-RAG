{
 "cells": [
  {
   "cell_type": "code",
   "id": "initial_id",
   "metadata": {
    "collapsed": true,
    "ExecuteTime": {
     "end_time": "2025-06-14T01:45:56.228737Z",
     "start_time": "2025-06-14T01:45:55.335503Z"
    }
   },
   "source": [
    "from langchain_community.document_loaders import PyPDFLoader\n",
    "from langchain.text_splitter import RecursiveCharacterTextSplitter\n",
    "from langchain_openai import OpenAIEmbeddings, ChatOpenAI, ChatOpenAI\n",
    "import os\n",
    "from dotenv import load_dotenv\n",
    "from langchain.vectorstores import Chroma\n",
    "from langchain.retrievers import BM25Retriever, EnsembleRetriever\n",
    "from langchain.chains import RetrievalQA"
   ],
   "outputs": [],
   "execution_count": 38
  },
  {
   "metadata": {
    "ExecuteTime": {
     "end_time": "2025-06-14T01:40:42.122243Z",
     "start_time": "2025-06-14T01:40:42.063518Z"
    }
   },
   "cell_type": "code",
   "source": "load_dotenv()",
   "id": "77a78102f524893d",
   "outputs": [
    {
     "data": {
      "text/plain": [
       "True"
      ]
     },
     "execution_count": 26,
     "metadata": {},
     "output_type": "execute_result"
    }
   ],
   "execution_count": 26
  },
  {
   "metadata": {
    "ExecuteTime": {
     "end_time": "2025-06-13T23:20:53.297135Z",
     "start_time": "2025-06-13T23:20:53.284127Z"
    }
   },
   "cell_type": "code",
   "source": "doc_path = '../data/pdf.pdf'",
   "id": "4cef55ff8bdd06e3",
   "outputs": [],
   "execution_count": 17
  },
  {
   "metadata": {},
   "cell_type": "code",
   "source": [
    "loader=PyPDFLoader(doc_path)\n",
    "docs=loader.load()\n",
    "docs"
   ],
   "id": "820b0925a2e86de0",
   "outputs": [],
   "execution_count": null
  },
  {
   "metadata": {},
   "cell_type": "code",
   "source": [
    "splitter = RecursiveCharacterTextSplitter(chunk_size=200,chunk_overlap=30)\n",
    "chunks = splitter.split_documents(docs)\n",
    "chunks"
   ],
   "id": "ad901f92bd49e38d",
   "outputs": [],
   "execution_count": null
  },
  {
   "metadata": {
    "ExecuteTime": {
     "end_time": "2025-06-14T01:40:46.382929Z",
     "start_time": "2025-06-14T01:40:44.917124Z"
    }
   },
   "cell_type": "code",
   "source": "embeddings = OpenAIEmbeddings()",
   "id": "61f68d9965cb1186",
   "outputs": [],
   "execution_count": 27
  },
  {
   "metadata": {
    "ExecuteTime": {
     "end_time": "2025-06-14T01:43:58.928658Z",
     "start_time": "2025-06-14T01:43:47.556706Z"
    }
   },
   "cell_type": "code",
   "source": [
    "vectorstore=Chroma.from_documents(chunks,embeddings)\n",
    "vectorstore_retreiver = vectorstore.as_retriever(search_kwargs={\"k\": 3})\n",
    "vectorstore_retreiver"
   ],
   "id": "a38aa0af22a880e5",
   "outputs": [
    {
     "data": {
      "text/plain": [
       "VectorStoreRetriever(tags=['Chroma', 'OpenAIEmbeddings'], vectorstore=<langchain_community.vectorstores.chroma.Chroma object at 0x000001A122E7FBB0>, search_kwargs={'k': 3})"
      ]
     },
     "execution_count": 31,
     "metadata": {},
     "output_type": "execute_result"
    }
   ],
   "execution_count": 31
  },
  {
   "metadata": {
    "ExecuteTime": {
     "end_time": "2025-06-14T01:45:17.251395Z",
     "start_time": "2025-06-14T01:45:17.162540Z"
    }
   },
   "cell_type": "code",
   "source": [
    "keyword_retriever = BM25Retriever.from_documents(chunks)\n",
    "keyword_retriever.k =  3\n",
    "keyword_retriever"
   ],
   "id": "4e1aa3237de6eb66",
   "outputs": [
    {
     "data": {
      "text/plain": [
       "BM25Retriever(vectorizer=<rank_bm25.BM25Okapi object at 0x000001A124AC06A0>, k=3)"
      ]
     },
     "execution_count": 35,
     "metadata": {},
     "output_type": "execute_result"
    }
   ],
   "execution_count": 35
  },
  {
   "metadata": {
    "ExecuteTime": {
     "end_time": "2025-06-14T01:45:21.858909Z",
     "start_time": "2025-06-14T01:45:21.847487Z"
    }
   },
   "cell_type": "code",
   "source": [
    "ensemble_retriever = EnsembleRetriever(retrievers=[vectorstore_retreiver,keyword_retriever],weights=[0.3, 0.7])\n",
    "ensemble_retriever"
   ],
   "id": "8489b17f0661f6f9",
   "outputs": [
    {
     "data": {
      "text/plain": [
       "EnsembleRetriever(retrievers=[VectorStoreRetriever(tags=['Chroma', 'OpenAIEmbeddings'], vectorstore=<langchain_community.vectorstores.chroma.Chroma object at 0x000001A122E7FBB0>, search_kwargs={'k': 3}), BM25Retriever(vectorizer=<rank_bm25.BM25Okapi object at 0x000001A124AC06A0>, k=3)], weights=[0.3, 0.7])"
      ]
     },
     "execution_count": 36,
     "metadata": {},
     "output_type": "execute_result"
    }
   ],
   "execution_count": 36
  },
  {
   "metadata": {
    "ExecuteTime": {
     "end_time": "2025-06-14T01:46:09.561002Z",
     "start_time": "2025-06-14T01:46:09.533476Z"
    }
   },
   "cell_type": "code",
   "source": "llm = ChatOpenAI()",
   "id": "5614ed3b3f9432f5",
   "outputs": [],
   "execution_count": 39
  },
  {
   "metadata": {
    "ExecuteTime": {
     "end_time": "2025-06-14T01:46:17.808788Z",
     "start_time": "2025-06-14T01:46:17.780500Z"
    }
   },
   "cell_type": "code",
   "source": [
    "normal_chain = RetrievalQA.from_chain_type(\n",
    "    llm=llm, chain_type=\"stuff\", retriever=vectorstore_retreiver\n",
    ")"
   ],
   "id": "a00911d22b3d79e0",
   "outputs": [],
   "execution_count": 40
  },
  {
   "metadata": {
    "ExecuteTime": {
     "end_time": "2025-06-14T01:46:34.463830Z",
     "start_time": "2025-06-14T01:46:34.437830Z"
    }
   },
   "cell_type": "code",
   "source": [
    "hybrid_chain = RetrievalQA.from_chain_type(\n",
    "    llm=llm, chain_type=\"stuff\", retriever=ensemble_retriever\n",
    ")"
   ],
   "id": "eb99917e68ca3c3c",
   "outputs": [],
   "execution_count": 41
  },
  {
   "metadata": {
    "ExecuteTime": {
     "end_time": "2025-06-14T01:47:23.012459Z",
     "start_time": "2025-06-14T01:47:20.849907Z"
    }
   },
   "cell_type": "code",
   "source": [
    "response1 = normal_chain.invoke(\"What is Dataset Contamination?\")\n",
    "response1"
   ],
   "id": "cbbcd2a698f01359",
   "outputs": [
    {
     "data": {
      "text/plain": [
       "{'query': 'What is Dataset Contamination?',\n",
       " 'result': 'Dataset contamination refers to the presence of irrelevant, misleading, or incorrect data within a dataset used for training or evaluation in machine learning or data analysis tasks. This contaminated data can negatively impact the performance and accuracy of models trained on the dataset.'}"
      ]
     },
     "execution_count": 43,
     "metadata": {},
     "output_type": "execute_result"
    }
   ],
   "execution_count": 43
  },
  {
   "metadata": {
    "ExecuteTime": {
     "end_time": "2025-06-14T01:47:52.915223Z",
     "start_time": "2025-06-14T01:47:49.682663Z"
    }
   },
   "cell_type": "code",
   "source": [
    "response1 = hybrid_chain.invoke(\"What is Dataset Contamination?\")\n",
    "response1"
   ],
   "id": "2d83fe4055068819",
   "outputs": [
    {
     "data": {
      "text/plain": [
       "{'query': 'What is Dataset Contamination?',\n",
       " 'result': \"Dataset contamination refers to a situation where the training data used to develop a machine learning model contains information or patterns from the evaluation data that the model will later be tested on. This can lead to the model performing better on the evaluation data than it would in a real-world scenario where it encounters previously unseen data. Controlling for dataset contamination is important in order to ensure that the model's performance is reliable and generalizable.\"}"
      ]
     },
     "execution_count": 44,
     "metadata": {},
     "output_type": "execute_result"
    }
   ],
   "execution_count": 44
  },
  {
   "metadata": {},
   "cell_type": "code",
   "outputs": [],
   "execution_count": null,
   "source": "",
   "id": "c71131f8888c2dd1"
  }
 ],
 "metadata": {
  "kernelspec": {
   "display_name": "Python 3",
   "language": "python",
   "name": "python3"
  },
  "language_info": {
   "codemirror_mode": {
    "name": "ipython",
    "version": 2
   },
   "file_extension": ".py",
   "mimetype": "text/x-python",
   "name": "python",
   "nbconvert_exporter": "python",
   "pygments_lexer": "ipython2",
   "version": "2.7.6"
  }
 },
 "nbformat": 4,
 "nbformat_minor": 5
}
